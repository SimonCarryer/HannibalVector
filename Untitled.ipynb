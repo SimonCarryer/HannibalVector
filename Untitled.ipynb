{
 "cells": [
  {
   "cell_type": "code",
   "execution_count": 1,
   "metadata": {
    "collapsed": true
   },
   "outputs": [],
   "source": [
    "import pandas as pd\n",
    "\n",
    "dfs = []\n",
    "for year in range(1940, 2018):\n",
    "    dfs.append(pd.read_csv('scraped_movies/top_movies_of_%d.csv' % year, encoding = 'cp1252'))\n",
    "movie_data = pd.concat(dfs)"
   ]
  },
  {
   "cell_type": "code",
   "execution_count": 2,
   "metadata": {
    "collapsed": false
   },
   "outputs": [
    {
     "data": {
      "text/html": [
       "<div>\n",
       "<style scoped>\n",
       "    .dataframe tbody tr th:only-of-type {\n",
       "        vertical-align: middle;\n",
       "    }\n",
       "\n",
       "    .dataframe tbody tr th {\n",
       "        vertical-align: top;\n",
       "    }\n",
       "\n",
       "    .dataframe thead th {\n",
       "        text-align: right;\n",
       "    }\n",
       "</style>\n",
       "<table border=\"1\" class=\"dataframe\">\n",
       "  <thead>\n",
       "    <tr style=\"text-align: right;\">\n",
       "      <th></th>\n",
       "      <th>IMDbId</th>\n",
       "      <th>IMDb_score</th>\n",
       "      <th>box_office_rank</th>\n",
       "      <th>genre_list</th>\n",
       "      <th>release_year</th>\n",
       "      <th>title</th>\n",
       "    </tr>\n",
       "  </thead>\n",
       "  <tbody>\n",
       "    <tr>\n",
       "      <th>0</th>\n",
       "      <td>tt0032910</td>\n",
       "      <td>7.5</td>\n",
       "      <td>1.0</td>\n",
       "      <td>Animation, Comedy, Family</td>\n",
       "      <td>1940</td>\n",
       "      <td>Pinocchio (1940)</td>\n",
       "    </tr>\n",
       "    <tr>\n",
       "      <th>1</th>\n",
       "      <td>tt0032455</td>\n",
       "      <td>7.8</td>\n",
       "      <td>2.0</td>\n",
       "      <td>Animation, Family, Fantasy</td>\n",
       "      <td>1940</td>\n",
       "      <td>Fantasia (1940)</td>\n",
       "    </tr>\n",
       "    <tr>\n",
       "      <th>2</th>\n",
       "      <td>tt0032384</td>\n",
       "      <td>6.8</td>\n",
       "      <td>3.0</td>\n",
       "      <td>Drama</td>\n",
       "      <td>1940</td>\n",
       "      <td>De Mayerling à Sarajevo (1940)</td>\n",
       "    </tr>\n",
       "    <tr>\n",
       "      <th>3</th>\n",
       "      <td>tt0032976</td>\n",
       "      <td>8.2</td>\n",
       "      <td>4.0</td>\n",
       "      <td>Drama, Mystery, Romance</td>\n",
       "      <td>1940</td>\n",
       "      <td>Rebecca (1940)</td>\n",
       "    </tr>\n",
       "    <tr>\n",
       "      <th>4</th>\n",
       "      <td>tt0032553</td>\n",
       "      <td>8.5</td>\n",
       "      <td>5.0</td>\n",
       "      <td>Comedy, Drama, War</td>\n",
       "      <td>1940</td>\n",
       "      <td>The Great Dictator (1940)</td>\n",
       "    </tr>\n",
       "  </tbody>\n",
       "</table>\n",
       "</div>"
      ],
      "text/plain": [
       "      IMDbId  IMDb_score  box_office_rank                  genre_list  \\\n",
       "0  tt0032910         7.5              1.0   Animation, Comedy, Family   \n",
       "1  tt0032455         7.8              2.0  Animation, Family, Fantasy   \n",
       "2  tt0032384         6.8              3.0                       Drama   \n",
       "3  tt0032976         8.2              4.0     Drama, Mystery, Romance   \n",
       "4  tt0032553         8.5              5.0          Comedy, Drama, War   \n",
       "\n",
       "   release_year                           title  \n",
       "0          1940                Pinocchio (1940)  \n",
       "1          1940                 Fantasia (1940)  \n",
       "2          1940  De Mayerling à Sarajevo (1940)  \n",
       "3          1940                  Rebecca (1940)  \n",
       "4          1940       The Great Dictator (1940)  "
      ]
     },
     "execution_count": 2,
     "metadata": {},
     "output_type": "execute_result"
    }
   ],
   "source": [
    "movie_data.head()"
   ]
  },
  {
   "cell_type": "code",
   "execution_count": 8,
   "metadata": {
    "collapsed": false
   },
   "outputs": [],
   "source": [
    "titles = [i[0:(i.find('(')-1)] for i in movie_data.title]"
   ]
  },
  {
   "cell_type": "code",
   "execution_count": 11,
   "metadata": {
    "collapsed": false
   },
   "outputs": [],
   "source": [
    "ones = [set(i) for i in titles]"
   ]
  },
  {
   "cell_type": "code",
   "execution_count": 14,
   "metadata": {
    "collapsed": false
   },
   "outputs": [
    {
     "name": "stdout",
     "output_type": "stream",
     "text": [
      "1000 loops, best of 3: 654 µs per loop\n"
     ]
    }
   ],
   "source": [
    "% timeit [i for i in ones if 'a' in i]"
   ]
  },
  {
   "cell_type": "code",
   "execution_count": 16,
   "metadata": {
    "collapsed": false
   },
   "outputs": [
    {
     "name": "stdout",
     "output_type": "stream",
     "text": [
      "100 loops, best of 3: 4.81 ms per loop\n"
     ]
    }
   ],
   "source": [
    "% timeit movie_data.title.str.contains('a')"
   ]
  },
  {
   "cell_type": "code",
   "execution_count": 18,
   "metadata": {
    "collapsed": false
   },
   "outputs": [],
   "source": [
    "n = 2\n",
    "twos = [set([line[i:i+n] for i in range(0, len(line), n)]) for line in titles]"
   ]
  },
  {
   "cell_type": "code",
   "execution_count": 19,
   "metadata": {
    "collapsed": false
   },
   "outputs": [
    {
     "name": "stdout",
     "output_type": "stream",
     "text": [
      "1000 loops, best of 3: 353 µs per loop\n"
     ]
    }
   ],
   "source": [
    "% timeit [i for i in ones if 'at' in i]"
   ]
  },
  {
   "cell_type": "code",
   "execution_count": 20,
   "metadata": {
    "collapsed": false
   },
   "outputs": [
    {
     "name": "stdout",
     "output_type": "stream",
     "text": [
      "100 loops, best of 3: 4.62 ms per loop\n"
     ]
    }
   ],
   "source": [
    "% timeit movie_data.title.str.contains('at')"
   ]
  },
  {
   "cell_type": "code",
   "execution_count": 1,
   "metadata": {
    "collapsed": true
   },
   "outputs": [],
   "source": [
    "import bs4\n",
    "import urllib.request"
   ]
  },
  {
   "cell_type": "code",
   "execution_count": 28,
   "metadata": {
    "collapsed": true
   },
   "outputs": [],
   "source": [
    "IMDbId = 'tt5164214'\n",
    "url = 'http://www.imdb.com/title/%s/fullcredits' % IMDbId\n",
    "with urllib.request.urlopen(url) as response:\n",
    "    html = response.read()\n",
    "soup = bs4.BeautifulSoup(html, \"lxml\")\n",
    "keyword_tags = soup.find_all(attrs={'class': \"itemprop\"})"
   ]
  },
  {
   "cell_type": "code",
   "execution_count": 3,
   "metadata": {
    "collapsed": false
   },
   "outputs": [
    {
     "data": {
      "text/plain": [
       "[]"
      ]
     },
     "execution_count": 3,
     "metadata": {},
     "output_type": "execute_result"
    }
   ],
   "source": [
    "keyword_tags"
   ]
  },
  {
   "cell_type": "code",
   "execution_count": 43,
   "metadata": {
    "collapsed": false
   },
   "outputs": [],
   "source": [
    "table = soup.find(attrs={'class':\"cast_list\"})"
   ]
  },
  {
   "cell_type": "code",
   "execution_count": 50,
   "metadata": {
    "collapsed": false
   },
   "outputs": [],
   "source": [
    "actors = [actor.text.strip() for actor in table.find_all(attrs={'itemprop':\"actor\"})]"
   ]
  },
  {
   "cell_type": "code",
   "execution_count": 51,
   "metadata": {
    "collapsed": false
   },
   "outputs": [
    {
     "data": {
      "text/plain": [
       "207"
      ]
     },
     "execution_count": 51,
     "metadata": {},
     "output_type": "execute_result"
    }
   ],
   "source": [
    "len(actors)"
   ]
  },
  {
   "cell_type": "code",
   "execution_count": null,
   "metadata": {
    "collapsed": true
   },
   "outputs": [],
   "source": []
  }
 ],
 "metadata": {
  "anaconda-cloud": {},
  "kernelspec": {
   "display_name": "Python [conda root]",
   "language": "python",
   "name": "conda-root-py"
  },
  "language_info": {
   "codemirror_mode": {
    "name": "ipython",
    "version": 3
   },
   "file_extension": ".py",
   "mimetype": "text/x-python",
   "name": "python",
   "nbconvert_exporter": "python",
   "pygments_lexer": "ipython3",
   "version": "3.5.2"
  }
 },
 "nbformat": 4,
 "nbformat_minor": 1
}
